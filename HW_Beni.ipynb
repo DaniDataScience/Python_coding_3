{
 "cells": [
  {
   "cell_type": "code",
   "execution_count": 1,
   "id": "4c3e327a",
   "metadata": {
    "scrolled": true
   },
   "outputs": [],
   "source": [
    "# importing libs\n",
    "import pandas as pd\n",
    "import re"
   ]
  },
  {
   "cell_type": "markdown",
   "id": "448df97b",
   "metadata": {},
   "source": [
    "#### Loading datasets"
   ]
  },
  {
   "cell_type": "code",
   "execution_count": 88,
   "id": "43ab4128",
   "metadata": {},
   "outputs": [],
   "source": [
    "# loading the education expenditure\n",
    "url1=\"https://raw.githubusercontent.com/DaniDataScience/Python_coding_3/main/education_expenditure.csv\"\n",
    "edu_exp=pd.read_csv('education_expenditure.csv')"
   ]
  },
  {
   "cell_type": "code",
   "execution_count": 89,
   "id": "f7be4912",
   "metadata": {},
   "outputs": [
    {
     "data": {
      "text/html": [
       "<div>\n",
       "<style scoped>\n",
       "    .dataframe tbody tr th:only-of-type {\n",
       "        vertical-align: middle;\n",
       "    }\n",
       "\n",
       "    .dataframe tbody tr th {\n",
       "        vertical-align: top;\n",
       "    }\n",
       "\n",
       "    .dataframe thead th {\n",
       "        text-align: right;\n",
       "    }\n",
       "</style>\n",
       "<table border=\"1\" class=\"dataframe\">\n",
       "  <thead>\n",
       "    <tr style=\"text-align: right;\">\n",
       "      <th></th>\n",
       "      <th>world_rank</th>\n",
       "      <th>university_name</th>\n",
       "      <th>country</th>\n",
       "      <th>teaching</th>\n",
       "      <th>international</th>\n",
       "      <th>research</th>\n",
       "      <th>citations</th>\n",
       "      <th>income</th>\n",
       "      <th>total_score</th>\n",
       "      <th>num_students</th>\n",
       "      <th>student_staff_ratio</th>\n",
       "      <th>international_students</th>\n",
       "      <th>female_male_ratio</th>\n",
       "      <th>year</th>\n",
       "    </tr>\n",
       "  </thead>\n",
       "  <tbody>\n",
       "    <tr>\n",
       "      <th>0</th>\n",
       "      <td>1</td>\n",
       "      <td>Harvard University</td>\n",
       "      <td>United States</td>\n",
       "      <td>99.7</td>\n",
       "      <td>72.4</td>\n",
       "      <td>98.7</td>\n",
       "      <td>98.8</td>\n",
       "      <td>34.5</td>\n",
       "      <td>96.1</td>\n",
       "      <td>20152.0</td>\n",
       "      <td>8.9</td>\n",
       "      <td>25%</td>\n",
       "      <td>NaN</td>\n",
       "      <td>2011</td>\n",
       "    </tr>\n",
       "    <tr>\n",
       "      <th>1</th>\n",
       "      <td>2</td>\n",
       "      <td>California Institute of Technology</td>\n",
       "      <td>United States</td>\n",
       "      <td>97.7</td>\n",
       "      <td>54.6</td>\n",
       "      <td>98.0</td>\n",
       "      <td>99.9</td>\n",
       "      <td>83.7</td>\n",
       "      <td>96.0</td>\n",
       "      <td>2243.0</td>\n",
       "      <td>6.9</td>\n",
       "      <td>27%</td>\n",
       "      <td>33;67</td>\n",
       "      <td>2011</td>\n",
       "    </tr>\n",
       "    <tr>\n",
       "      <th>2</th>\n",
       "      <td>3</td>\n",
       "      <td>Massachusetts Institute of Technology</td>\n",
       "      <td>United States</td>\n",
       "      <td>97.8</td>\n",
       "      <td>82.3</td>\n",
       "      <td>91.4</td>\n",
       "      <td>99.9</td>\n",
       "      <td>87.5</td>\n",
       "      <td>95.6</td>\n",
       "      <td>11074.0</td>\n",
       "      <td>9.0</td>\n",
       "      <td>33%</td>\n",
       "      <td>37;63</td>\n",
       "      <td>2011</td>\n",
       "    </tr>\n",
       "    <tr>\n",
       "      <th>3</th>\n",
       "      <td>4</td>\n",
       "      <td>Stanford University</td>\n",
       "      <td>United States</td>\n",
       "      <td>98.3</td>\n",
       "      <td>29.5</td>\n",
       "      <td>98.1</td>\n",
       "      <td>99.2</td>\n",
       "      <td>64.3</td>\n",
       "      <td>94.3</td>\n",
       "      <td>15596.0</td>\n",
       "      <td>7.8</td>\n",
       "      <td>22%</td>\n",
       "      <td>1.79</td>\n",
       "      <td>2011</td>\n",
       "    </tr>\n",
       "    <tr>\n",
       "      <th>4</th>\n",
       "      <td>5</td>\n",
       "      <td>Princeton University</td>\n",
       "      <td>United States</td>\n",
       "      <td>90.9</td>\n",
       "      <td>70.3</td>\n",
       "      <td>95.4</td>\n",
       "      <td>99.9</td>\n",
       "      <td>NaN</td>\n",
       "      <td>94.2</td>\n",
       "      <td>7929.0</td>\n",
       "      <td>8.4</td>\n",
       "      <td>27%</td>\n",
       "      <td>1.91</td>\n",
       "      <td>2011</td>\n",
       "    </tr>\n",
       "  </tbody>\n",
       "</table>\n",
       "</div>"
      ],
      "text/plain": [
       "   world_rank                        university_name        country  teaching  \\\n",
       "0           1                     Harvard University  United States      99.7   \n",
       "1           2     California Institute of Technology  United States      97.7   \n",
       "2           3  Massachusetts Institute of Technology  United States      97.8   \n",
       "3           4                    Stanford University  United States      98.3   \n",
       "4           5                   Princeton University  United States      90.9   \n",
       "\n",
       "   international  research  citations  income  total_score  num_students  \\\n",
       "0           72.4      98.7       98.8    34.5         96.1       20152.0   \n",
       "1           54.6      98.0       99.9    83.7         96.0        2243.0   \n",
       "2           82.3      91.4       99.9    87.5         95.6       11074.0   \n",
       "3           29.5      98.1       99.2    64.3         94.3       15596.0   \n",
       "4           70.3      95.4       99.9     NaN         94.2        7929.0   \n",
       "\n",
       "   student_staff_ratio international_students female_male_ratio  year  \n",
       "0                  8.9                    25%               NaN  2011  \n",
       "1                  6.9                    27%             33;67  2011  \n",
       "2                  9.0                    33%             37;63  2011  \n",
       "3                  7.8                    22%              1.79  2011  \n",
       "4                  8.4                    27%              1.91  2011  "
      ]
     },
     "execution_count": 89,
     "metadata": {},
     "output_type": "execute_result"
    }
   ],
   "source": [
    "# loading the Times data set\n",
    "times_data=pd.read_csv(\"https://raw.githubusercontent.com/DaniDataScience/Python_coding_3/main/times_Data_er.csv\")\n",
    "times_data.head()"
   ]
  },
  {
   "cell_type": "markdown",
   "id": "8cb67a61",
   "metadata": {},
   "source": [
    "### Cleaning data"
   ]
  },
  {
   "cell_type": "markdown",
   "id": "7efc2409",
   "metadata": {},
   "source": [
    "#### Identifying NAs and dropping them"
   ]
  },
  {
   "cell_type": "code",
   "execution_count": 90,
   "id": "0ce5446b",
   "metadata": {},
   "outputs": [
    {
     "data": {
      "text/plain": [
       "world_rank                   0\n",
       "university_name              0\n",
       "country                      0\n",
       "teaching                     0\n",
       "international                9\n",
       "research                     0\n",
       "citations                    0\n",
       "income                     218\n",
       "total_score               1402\n",
       "num_students                59\n",
       "student_staff_ratio         59\n",
       "international_students      67\n",
       "female_male_ratio          236\n",
       "year                         0\n",
       "dtype: int64"
      ]
     },
     "execution_count": 90,
     "metadata": {},
     "output_type": "execute_result"
    }
   ],
   "source": [
    "times_data.isna().sum(axis=0)"
   ]
  },
  {
   "cell_type": "code",
   "execution_count": 91,
   "id": "053bab56",
   "metadata": {},
   "outputs": [
    {
     "data": {
      "text/plain": [
       "world_rank                0\n",
       "university_name           0\n",
       "country                   0\n",
       "teaching                  0\n",
       "international             0\n",
       "research                  0\n",
       "citations                 0\n",
       "income                    0\n",
       "total_score               0\n",
       "num_students              0\n",
       "student_staff_ratio       0\n",
       "international_students    0\n",
       "female_male_ratio         0\n",
       "year                      0\n",
       "dtype: int64"
      ]
     },
     "execution_count": 91,
     "metadata": {},
     "output_type": "execute_result"
    }
   ],
   "source": [
    "times_data = times_data.dropna()\n",
    "times_data.isna().sum(axis=0)"
   ]
  },
  {
   "cell_type": "code",
   "execution_count": 92,
   "id": "22200ad2",
   "metadata": {},
   "outputs": [
    {
     "data": {
      "text/plain": [
       "954"
      ]
     },
     "execution_count": 92,
     "metadata": {},
     "output_type": "execute_result"
    }
   ],
   "source": [
    "len(times_data)"
   ]
  },
  {
   "cell_type": "markdown",
   "id": "e7442c65",
   "metadata": {},
   "source": [
    "#### checking dta dypes. columns with objects as type probably need cleaning"
   ]
  },
  {
   "cell_type": "code",
   "execution_count": 93,
   "id": "b1bd8161",
   "metadata": {},
   "outputs": [
    {
     "data": {
      "text/plain": [
       "world_rank                  int64\n",
       "university_name            object\n",
       "country                    object\n",
       "teaching                  float64\n",
       "international             float64\n",
       "research                  float64\n",
       "citations                 float64\n",
       "income                    float64\n",
       "total_score               float64\n",
       "num_students              float64\n",
       "student_staff_ratio       float64\n",
       "international_students     object\n",
       "female_male_ratio          object\n",
       "year                        int64\n",
       "dtype: object"
      ]
     },
     "execution_count": 93,
     "metadata": {},
     "output_type": "execute_result"
    }
   ],
   "source": [
    "times_data.dtypes"
   ]
  },
  {
   "cell_type": "markdown",
   "id": "91f3de07",
   "metadata": {},
   "source": [
    "#### cleaning international col"
   ]
  },
  {
   "cell_type": "code",
   "execution_count": 94,
   "id": "2822881b",
   "metadata": {},
   "outputs": [
    {
     "data": {
      "text/plain": [
       "1       27\n",
       "2       33\n",
       "3       22\n",
       "5       34\n",
       "6       34\n",
       "        ..\n",
       "1998    29\n",
       "1999    17\n",
       "2000     8\n",
       "2001    17\n",
       "2002    30\n",
       "Name: international_students, Length: 954, dtype: object"
      ]
     },
     "execution_count": 94,
     "metadata": {},
     "output_type": "execute_result"
    }
   ],
   "source": [
    "times_data[\"international_students\"].apply(lambda x: re.sub(r'\\W','',x))"
   ]
  },
  {
   "cell_type": "markdown",
   "id": "1549adb1",
   "metadata": {},
   "source": [
    "#### cleaning female_male_ratio col"
   ]
  },
  {
   "cell_type": "markdown",
   "id": "7be4d67b",
   "metadata": {},
   "source": [
    "columns \"female_male_ratio\" has two types of value, one ratio with \";\" (e.g.60;40) and one with in integer (e.g. 1.5)"
   ]
  },
  {
   "cell_type": "code",
   "execution_count": 95,
   "id": "cd1a548c",
   "metadata": {},
   "outputs": [],
   "source": [
    "# marking True-False for splitting dataframe\n",
    "times_data[\"female__ratio\"] = times_data[\"female_male_ratio\"].apply(\n",
    "    lambda x: \n",
    "        x[0:2]\n",
    "        if \";\" in x else\n",
    "        round((float(x)/(1+float(x)))*100)\n",
    ")\n",
    "\n",
    "times_data.drop([\"female_male_ratio\"], axis='columns', inplace=True)"
   ]
  },
  {
   "cell_type": "markdown",
   "id": "cc62a775",
   "metadata": {},
   "source": [
    "#### cleaning university name and country col"
   ]
  },
  {
   "cell_type": "code",
   "execution_count": 96,
   "id": "8e2785c4",
   "metadata": {
    "scrolled": true
   },
   "outputs": [
    {
     "data": {
      "text/plain": [
       "world_rank                  int64\n",
       "university_name            string\n",
       "country                    string\n",
       "teaching                  float64\n",
       "international             float64\n",
       "research                  float64\n",
       "citations                 float64\n",
       "income                    float64\n",
       "total_score               float64\n",
       "num_students              float64\n",
       "student_staff_ratio       float64\n",
       "international_students     object\n",
       "year                        int64\n",
       "female__ratio               int64\n",
       "dtype: object"
      ]
     },
     "execution_count": 96,
     "metadata": {},
     "output_type": "execute_result"
    }
   ],
   "source": [
    "#notepad++-ban tisztítottam a táblán, de lehet nem eleget. Ha látsz még hibát küld el\n",
    "times_data['university_name'] = times_data['university_name'].astype(\"string\")\n",
    "times_data['country'] = times_data['country'].astype(\"string\")\n",
    "times_data['female__ratio'] = times_data['female__ratio'].astype(\"int64\")\n",
    "#times_data['international_students'] = times_data['international_students'].astype(\"int\")\n",
    "\n",
    "times_data.dtypes"
   ]
  },
  {
   "cell_type": "code",
   "execution_count": 97,
   "id": "30b35791",
   "metadata": {},
   "outputs": [
    {
     "data": {
      "text/plain": [
       "country                      0\n",
       "institute_type               0\n",
       "direct_expenditure_type      0\n",
       "1995                       239\n",
       "2000                       234\n",
       "2005                       227\n",
       "2009                       230\n",
       "2010                       232\n",
       "2011                        51\n",
       "dtype: int64"
      ]
     },
     "execution_count": 97,
     "metadata": {},
     "output_type": "execute_result"
    }
   ],
   "source": [
    "edu_exp.isna().sum(axis=0)"
   ]
  },
  {
   "cell_type": "code",
   "execution_count": 98,
   "id": "5b2fe9e6",
   "metadata": {},
   "outputs": [
    {
     "data": {
      "text/plain": [
       "country                    0\n",
       "institute_type             0\n",
       "direct_expenditure_type    0\n",
       "1995                       0\n",
       "2000                       0\n",
       "2005                       0\n",
       "2009                       0\n",
       "2010                       0\n",
       "2011                       0\n",
       "dtype: int64"
      ]
     },
     "execution_count": 98,
     "metadata": {},
     "output_type": "execute_result"
    }
   ],
   "source": [
    "edu_exp = edu_exp.dropna()\n",
    "edu_exp.isna().sum(axis=0)"
   ]
  },
  {
   "cell_type": "code",
   "execution_count": 99,
   "id": "639cce70",
   "metadata": {},
   "outputs": [
    {
     "data": {
      "text/plain": [
       "country                     string\n",
       "institute_type              string\n",
       "direct_expenditure_type     string\n",
       "1995                       float64\n",
       "2000                       float64\n",
       "2005                       float64\n",
       "2009                       float64\n",
       "2010                       float64\n",
       "2011                       float64\n",
       "dtype: object"
      ]
     },
     "execution_count": 99,
     "metadata": {},
     "output_type": "execute_result"
    }
   ],
   "source": [
    "edu_exp['country'] = edu_exp['country'].astype(\"string\")\n",
    "edu_exp['institute_type'] = edu_exp['institute_type'].astype(\"string\")\n",
    "edu_exp['direct_expenditure_type'] = edu_exp['direct_expenditure_type'].astype(\"string\")\n",
    "\n",
    "edu_exp.dtypes"
   ]
  },
  {
   "cell_type": "code",
   "execution_count": 100,
   "id": "049866ea",
   "metadata": {},
   "outputs": [
    {
     "data": {
      "text/plain": [
       "world_rank                 0\n",
       "university_name            0\n",
       "country                    0\n",
       "teaching                   0\n",
       "international              0\n",
       "research                   0\n",
       "citations                  0\n",
       "income                     0\n",
       "total_score                0\n",
       "num_students               0\n",
       "student_staff_ratio        0\n",
       "international_students     0\n",
       "year                       0\n",
       "female__ratio              0\n",
       "institute_type             0\n",
       "direct_expenditure_type    0\n",
       "1995                       0\n",
       "2000                       0\n",
       "2005                       0\n",
       "2009                       0\n",
       "2010                       0\n",
       "2011                       0\n",
       "dtype: int64"
      ]
     },
     "execution_count": 100,
     "metadata": {},
     "output_type": "execute_result"
    }
   ],
   "source": [
    "merged_df = pd.merge(times_data, edu_exp,how='left')\n",
    "merged_df = merged_df.dropna()\n",
    "merged_df.isna().sum(axis=0)"
   ]
  },
  {
   "cell_type": "code",
   "execution_count": 101,
   "id": "e0669bdd",
   "metadata": {},
   "outputs": [
    {
     "data": {
      "text/html": [
       "<div>\n",
       "<style scoped>\n",
       "    .dataframe tbody tr th:only-of-type {\n",
       "        vertical-align: middle;\n",
       "    }\n",
       "\n",
       "    .dataframe tbody tr th {\n",
       "        vertical-align: top;\n",
       "    }\n",
       "\n",
       "    .dataframe thead th {\n",
       "        text-align: right;\n",
       "    }\n",
       "</style>\n",
       "<table border=\"1\" class=\"dataframe\">\n",
       "  <thead>\n",
       "    <tr style=\"text-align: right;\">\n",
       "      <th></th>\n",
       "      <th>Country</th>\n",
       "      <th>Alpha-2 code</th>\n",
       "      <th>Alpha-3 code</th>\n",
       "      <th>Numeric code</th>\n",
       "      <th>Latitude (average)</th>\n",
       "      <th>Longitude (average)</th>\n",
       "    </tr>\n",
       "  </thead>\n",
       "  <tbody>\n",
       "    <tr>\n",
       "      <th>0</th>\n",
       "      <td>Afghanistan</td>\n",
       "      <td>\"AF\"</td>\n",
       "      <td>\"AFG\"</td>\n",
       "      <td>\"4\"</td>\n",
       "      <td>\"33\"</td>\n",
       "      <td>\"65\"</td>\n",
       "    </tr>\n",
       "    <tr>\n",
       "      <th>1</th>\n",
       "      <td>Albania</td>\n",
       "      <td>\"AL\"</td>\n",
       "      <td>\"ALB\"</td>\n",
       "      <td>\"8\"</td>\n",
       "      <td>\"41\"</td>\n",
       "      <td>\"20\"</td>\n",
       "    </tr>\n",
       "    <tr>\n",
       "      <th>2</th>\n",
       "      <td>Algeria</td>\n",
       "      <td>\"DZ\"</td>\n",
       "      <td>\"DZA\"</td>\n",
       "      <td>\"12\"</td>\n",
       "      <td>\"28\"</td>\n",
       "      <td>\"3\"</td>\n",
       "    </tr>\n",
       "    <tr>\n",
       "      <th>3</th>\n",
       "      <td>American Samoa</td>\n",
       "      <td>\"AS\"</td>\n",
       "      <td>\"ASM\"</td>\n",
       "      <td>\"16\"</td>\n",
       "      <td>\"-14.3333\"</td>\n",
       "      <td>\"-170\"</td>\n",
       "    </tr>\n",
       "    <tr>\n",
       "      <th>4</th>\n",
       "      <td>Andorra</td>\n",
       "      <td>\"AD\"</td>\n",
       "      <td>\"AND\"</td>\n",
       "      <td>\"20\"</td>\n",
       "      <td>\"42.5\"</td>\n",
       "      <td>\"1.6\"</td>\n",
       "    </tr>\n",
       "  </tbody>\n",
       "</table>\n",
       "</div>"
      ],
      "text/plain": [
       "          Country Alpha-2 code Alpha-3 code Numeric code Latitude (average)  \\\n",
       "0     Afghanistan         \"AF\"        \"AFG\"          \"4\"               \"33\"   \n",
       "1         Albania         \"AL\"        \"ALB\"          \"8\"               \"41\"   \n",
       "2         Algeria         \"DZ\"        \"DZA\"         \"12\"               \"28\"   \n",
       "3  American Samoa         \"AS\"        \"ASM\"         \"16\"         \"-14.3333\"   \n",
       "4         Andorra         \"AD\"        \"AND\"         \"20\"             \"42.5\"   \n",
       "\n",
       "  Longitude (average)  \n",
       "0                \"65\"  \n",
       "1                \"20\"  \n",
       "2                 \"3\"  \n",
       "3              \"-170\"  \n",
       "4               \"1.6\"  "
      ]
     },
     "execution_count": 101,
     "metadata": {},
     "output_type": "execute_result"
    }
   ],
   "source": [
    "url3='https://gist.githubusercontent.com/tadast/8827699/raw/f5cac3d42d16b78348610fc4ec301e9234f82821/countries_codes_and_coordinates.csv'\n",
    "cords=pd.read_csv(url3)\n",
    "\n",
    "cords.head()"
   ]
  },
  {
   "cell_type": "code",
   "execution_count": 102,
   "id": "5dca104e",
   "metadata": {},
   "outputs": [
    {
     "data": {
      "text/plain": [
       "Country                string\n",
       "Alpha-2 code           string\n",
       "Alpha-3 code           string\n",
       "Numeric code           object\n",
       "Latitude (average)     object\n",
       "Longitude (average)    object\n",
       "dtype: object"
      ]
     },
     "execution_count": 102,
     "metadata": {},
     "output_type": "execute_result"
    }
   ],
   "source": [
    "cords['Country'] = cords['Country'].astype(\"string\")\n",
    "cords['Alpha-2 code'] = cords['Alpha-2 code'].astype(\"string\")\n",
    "cords['Alpha-3 code'] = cords['Alpha-3 code'].astype(\"string\")\n",
    "\n",
    "cords.dtypes"
   ]
  },
  {
   "cell_type": "code",
   "execution_count": 107,
   "id": "e2c5159c",
   "metadata": {},
   "outputs": [
    {
     "ename": "KeyError",
     "evalue": "'country'",
     "output_type": "error",
     "traceback": [
      "\u001b[1;31m---------------------------------------------------------------------------\u001b[0m",
      "\u001b[1;31mKeyError\u001b[0m                                  Traceback (most recent call last)",
      "\u001b[1;32m~\\AppData\\Local\\Temp/ipykernel_20304/1772443436.py\u001b[0m in \u001b[0;36m<module>\u001b[1;34m\u001b[0m\n\u001b[1;32m----> 1\u001b[1;33m \u001b[0mfin_df\u001b[0m \u001b[1;33m=\u001b[0m \u001b[0mpd\u001b[0m\u001b[1;33m.\u001b[0m\u001b[0mmerge\u001b[0m\u001b[1;33m(\u001b[0m\u001b[0mmerged_df\u001b[0m\u001b[1;33m,\u001b[0m \u001b[0mcords\u001b[0m\u001b[1;33m,\u001b[0m \u001b[0mhow\u001b[0m\u001b[1;33m=\u001b[0m\u001b[1;34m'left'\u001b[0m\u001b[1;33m,\u001b[0m \u001b[0mon\u001b[0m\u001b[1;33m=\u001b[0m\u001b[1;33m[\u001b[0m\u001b[1;34m'country'\u001b[0m\u001b[1;33m,\u001b[0m \u001b[1;34m'Country'\u001b[0m\u001b[1;33m]\u001b[0m\u001b[1;33m)\u001b[0m\u001b[1;33m\u001b[0m\u001b[1;33m\u001b[0m\u001b[0m\n\u001b[0m",
      "\u001b[1;32m~\\anaconda3\\lib\\site-packages\\pandas\\core\\reshape\\merge.py\u001b[0m in \u001b[0;36mmerge\u001b[1;34m(left, right, how, on, left_on, right_on, left_index, right_index, sort, suffixes, copy, indicator, validate)\u001b[0m\n\u001b[0;32m    104\u001b[0m     \u001b[0mvalidate\u001b[0m\u001b[1;33m:\u001b[0m \u001b[0mstr\u001b[0m \u001b[1;33m|\u001b[0m \u001b[1;32mNone\u001b[0m \u001b[1;33m=\u001b[0m \u001b[1;32mNone\u001b[0m\u001b[1;33m,\u001b[0m\u001b[1;33m\u001b[0m\u001b[1;33m\u001b[0m\u001b[0m\n\u001b[0;32m    105\u001b[0m ) -> DataFrame:\n\u001b[1;32m--> 106\u001b[1;33m     op = _MergeOperation(\n\u001b[0m\u001b[0;32m    107\u001b[0m         \u001b[0mleft\u001b[0m\u001b[1;33m,\u001b[0m\u001b[1;33m\u001b[0m\u001b[1;33m\u001b[0m\u001b[0m\n\u001b[0;32m    108\u001b[0m         \u001b[0mright\u001b[0m\u001b[1;33m,\u001b[0m\u001b[1;33m\u001b[0m\u001b[1;33m\u001b[0m\u001b[0m\n",
      "\u001b[1;32m~\\anaconda3\\lib\\site-packages\\pandas\\core\\reshape\\merge.py\u001b[0m in \u001b[0;36m__init__\u001b[1;34m(self, left, right, how, on, left_on, right_on, axis, left_index, right_index, sort, suffixes, copy, indicator, validate)\u001b[0m\n\u001b[0;32m    697\u001b[0m             \u001b[0mself\u001b[0m\u001b[1;33m.\u001b[0m\u001b[0mright_join_keys\u001b[0m\u001b[1;33m,\u001b[0m\u001b[1;33m\u001b[0m\u001b[1;33m\u001b[0m\u001b[0m\n\u001b[0;32m    698\u001b[0m             \u001b[0mself\u001b[0m\u001b[1;33m.\u001b[0m\u001b[0mjoin_names\u001b[0m\u001b[1;33m,\u001b[0m\u001b[1;33m\u001b[0m\u001b[1;33m\u001b[0m\u001b[0m\n\u001b[1;32m--> 699\u001b[1;33m         ) = self._get_merge_keys()\n\u001b[0m\u001b[0;32m    700\u001b[0m \u001b[1;33m\u001b[0m\u001b[0m\n\u001b[0;32m    701\u001b[0m         \u001b[1;31m# validate the merge keys dtypes. We may need to coerce\u001b[0m\u001b[1;33m\u001b[0m\u001b[1;33m\u001b[0m\u001b[0m\n",
      "\u001b[1;32m~\\anaconda3\\lib\\site-packages\\pandas\\core\\reshape\\merge.py\u001b[0m in \u001b[0;36m_get_merge_keys\u001b[1;34m(self)\u001b[0m\n\u001b[0;32m   1094\u001b[0m                     \u001b[1;32mif\u001b[0m \u001b[1;32mnot\u001b[0m \u001b[0mis_rkey\u001b[0m\u001b[1;33m(\u001b[0m\u001b[0mrk\u001b[0m\u001b[1;33m)\u001b[0m\u001b[1;33m:\u001b[0m\u001b[1;33m\u001b[0m\u001b[1;33m\u001b[0m\u001b[0m\n\u001b[0;32m   1095\u001b[0m                         \u001b[1;32mif\u001b[0m \u001b[0mrk\u001b[0m \u001b[1;32mis\u001b[0m \u001b[1;32mnot\u001b[0m \u001b[1;32mNone\u001b[0m\u001b[1;33m:\u001b[0m\u001b[1;33m\u001b[0m\u001b[1;33m\u001b[0m\u001b[0m\n\u001b[1;32m-> 1096\u001b[1;33m                             \u001b[0mright_keys\u001b[0m\u001b[1;33m.\u001b[0m\u001b[0mappend\u001b[0m\u001b[1;33m(\u001b[0m\u001b[0mright\u001b[0m\u001b[1;33m.\u001b[0m\u001b[0m_get_label_or_level_values\u001b[0m\u001b[1;33m(\u001b[0m\u001b[0mrk\u001b[0m\u001b[1;33m)\u001b[0m\u001b[1;33m)\u001b[0m\u001b[1;33m\u001b[0m\u001b[1;33m\u001b[0m\u001b[0m\n\u001b[0m\u001b[0;32m   1097\u001b[0m                         \u001b[1;32melse\u001b[0m\u001b[1;33m:\u001b[0m\u001b[1;33m\u001b[0m\u001b[1;33m\u001b[0m\u001b[0m\n\u001b[0;32m   1098\u001b[0m                             \u001b[1;31m# work-around for merge_asof(right_index=True)\u001b[0m\u001b[1;33m\u001b[0m\u001b[1;33m\u001b[0m\u001b[0m\n",
      "\u001b[1;32m~\\anaconda3\\lib\\site-packages\\pandas\\core\\generic.py\u001b[0m in \u001b[0;36m_get_label_or_level_values\u001b[1;34m(self, key, axis)\u001b[0m\n\u001b[0;32m   1777\u001b[0m             \u001b[0mvalues\u001b[0m \u001b[1;33m=\u001b[0m \u001b[0mself\u001b[0m\u001b[1;33m.\u001b[0m\u001b[0maxes\u001b[0m\u001b[1;33m[\u001b[0m\u001b[0maxis\u001b[0m\u001b[1;33m]\u001b[0m\u001b[1;33m.\u001b[0m\u001b[0mget_level_values\u001b[0m\u001b[1;33m(\u001b[0m\u001b[0mkey\u001b[0m\u001b[1;33m)\u001b[0m\u001b[1;33m.\u001b[0m\u001b[0m_values\u001b[0m\u001b[1;33m\u001b[0m\u001b[1;33m\u001b[0m\u001b[0m\n\u001b[0;32m   1778\u001b[0m         \u001b[1;32melse\u001b[0m\u001b[1;33m:\u001b[0m\u001b[1;33m\u001b[0m\u001b[1;33m\u001b[0m\u001b[0m\n\u001b[1;32m-> 1779\u001b[1;33m             \u001b[1;32mraise\u001b[0m \u001b[0mKeyError\u001b[0m\u001b[1;33m(\u001b[0m\u001b[0mkey\u001b[0m\u001b[1;33m)\u001b[0m\u001b[1;33m\u001b[0m\u001b[1;33m\u001b[0m\u001b[0m\n\u001b[0m\u001b[0;32m   1780\u001b[0m \u001b[1;33m\u001b[0m\u001b[0m\n\u001b[0;32m   1781\u001b[0m         \u001b[1;31m# Check for duplicates\u001b[0m\u001b[1;33m\u001b[0m\u001b[1;33m\u001b[0m\u001b[0m\n",
      "\u001b[1;31mKeyError\u001b[0m: 'country'"
     ]
    }
   ],
   "source": [
    "fin_df = pd.merge(merged_df, cords, how='left', on=['country', 'Country'])\n"
   ]
  },
  {
   "cell_type": "code",
   "execution_count": 7,
   "id": "601ef9ce",
   "metadata": {},
   "outputs": [
    {
     "ename": "SyntaxError",
     "evalue": "invalid character '˙' (U+02D9) (Temp/ipykernel_10988/2290121928.py, line 2)",
     "output_type": "error",
     "traceback": [
      "\u001b[1;36m  File \u001b[1;32m\"C:\\Users\\Dani\\AppData\\Local\\Temp/ipykernel_10988/2290121928.py\"\u001b[1;36m, line \u001b[1;32m2\u001b[0m\n\u001b[1;33m    fin_df['urls']= ˙(\"http://api.worldbank.org/v2/country/\"+f+\"/indicator/GB.XPD.RSDV.GD.ZS?format=json&date=2011\")\u001b[0m\n\u001b[1;37m                    ^\u001b[0m\n\u001b[1;31mSyntaxError\u001b[0m\u001b[1;31m:\u001b[0m invalid character '˙' (U+02D9)\n"
     ]
    }
   ],
   "source": [
    "for f in fin_df['Alpha-2 code']:\n",
    "    fin_df['urls']= ˙(\"http://api.worldbank.org/v2/country/\"+f+\"/indicator/GB.XPD.RSDV.GD.ZS?format=json&date=2011\")"
   ]
  }
 ],
 "metadata": {
  "kernelspec": {
   "display_name": "Python 3 (ipykernel)",
   "language": "python",
   "name": "python3"
  },
  "language_info": {
   "codemirror_mode": {
    "name": "ipython",
    "version": 3
   },
   "file_extension": ".py",
   "mimetype": "text/x-python",
   "name": "python",
   "nbconvert_exporter": "python",
   "pygments_lexer": "ipython3",
   "version": "3.9.7"
  }
 },
 "nbformat": 4,
 "nbformat_minor": 5
}
